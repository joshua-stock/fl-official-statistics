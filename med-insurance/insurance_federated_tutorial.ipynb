{
  "cells": [
    {
      "cell_type": "markdown",
      "metadata": {
        "id": "view-in-github",
        "colab_type": "text"
      },
      "source": [
        "<a href=\"https://colab.research.google.com/github/joshua-stock/fl-official-statistics/blob/main/med-insurance/insurance_federated_tutorial.ipynb\" target=\"_parent\"><img src=\"https://colab.research.google.com/assets/colab-badge.svg\" alt=\"Open In Colab\"/></a>"
      ]
    },
    {
      "cell_type": "markdown",
      "metadata": {
        "id": "kWsCh8Yxci_O"
      },
      "source": [
        "# Federated Insurance"
      ]
    },
    {
      "cell_type": "markdown",
      "source": [
        "## Tensorflow Federated Tutorials\n",
        "\n",
        "**Getting started**\n",
        "\n",
        "1. [Federated Learning for image classification](https://www.tensorflow.org/federated/tutorials/federated_learning_for_image_classification)\n",
        "1. [Federated Learning for Text Generation](https://www.tensorflow.org/federated/tutorials/federated_learning_for_text_generation)\n",
        "1. [Tuning recommended aggregations for learning](https://www.tensorflow.org/federated/tutorials/tuning_recommended_aggregators)\n",
        "1. [Federated Reconstruction for Matrix Factorization](https://www.tensorflow.org/federated/tutorials/federated_reconstruction_for_matrix_factorization)\n",
        "\n",
        "**... and  [more](https://www.tensorflow.org/federated/tutorials/tutorials_overview)**\n",
        "\n"
      ],
      "metadata": {
        "id": "DFzNZps8fC00"
      }
    },
    {
      "cell_type": "markdown",
      "metadata": {
        "id": "ia10zJ2Kci_Q"
      },
      "source": [
        "## Prerequisites\n",
        "---"
      ]
    },
    {
      "cell_type": "markdown",
      "metadata": {
        "id": "tv7MsvZEci_R"
      },
      "source": [
        "### Libraries\n",
        "---"
      ]
    },
    {
      "cell_type": "code",
      "execution_count": 3,
      "metadata": {
        "colab": {
          "base_uri": "https://localhost:8080/"
        },
        "id": "mZJRN3dyci_R",
        "outputId": "f869474a-7026-468e-9bdc-8d030f02269e"
      },
      "outputs": [
        {
          "output_type": "stream",
          "name": "stdout",
          "text": [
            "COLAB? True\n",
            "Cloning into 'fl-official-statistics'...\n",
            "remote: Enumerating objects: 288, done.\u001b[K\n",
            "remote: Counting objects: 100% (18/18), done.\u001b[K\n",
            "remote: Compressing objects: 100% (13/13), done.\u001b[K\n",
            "remote: Total 288 (delta 6), reused 11 (delta 5), pack-reused 270\u001b[K\n",
            "Receiving objects: 100% (288/288), 15.57 MiB | 5.74 MiB/s, done.\n",
            "Resolving deltas: 100% (89/89), done.\n",
            "/content/fl-official-statistics/fl-official-statistics\n",
            "Already up to date.\n"
          ]
        }
      ],
      "source": [
        "# Setup colab if needed\n",
        "\n",
        "try:\n",
        "  import google.colab\n",
        "  IN_COLAB = True\n",
        "except:\n",
        "  IN_COLAB = False\n",
        "\n",
        "print(\"COLAB? {}\".format(IN_COLAB))\n",
        "\n",
        "if IN_COLAB:\n",
        "    import os\n",
        "\n",
        "    # rm repo from gdrive\n",
        "    if os.path.exists(\"fl-official-statistics-addon\"):\n",
        "      %rm -r fl-official-statistics-addon\n",
        "\n",
        "    # clone\n",
        "    !git clone https://github.com/joshua-stock/fl-official-statistics\n",
        "    %cd fl-official-statistics\n",
        "\n",
        "    # pull (the currenct version of the repo)\n",
        "    !git pull\n",
        "\n",
        "    !pip install -q tensorflow-federated==0.56.0\n",
        "    # or possibly !pip install -r requirements.txt\n",
        "\n",
        "    os.chdir(\"med-insurance\")"
      ]
    },
    {
      "cell_type": "code",
      "execution_count": 4,
      "metadata": {
        "colab": {
          "base_uri": "https://localhost:8080/"
        },
        "id": "BmSZBh21ci_S",
        "outputId": "a22ffb69-a9c2-4d0c-cb44-3d48cdd8b06f"
      },
      "outputs": [
        {
          "output_type": "stream",
          "name": "stdout",
          "text": [
            "Python 3.10.12\n"
          ]
        }
      ],
      "source": [
        "!python --version\n",
        "# tested 3.9.* or 3.10.*."
      ]
    },
    {
      "cell_type": "code",
      "execution_count": 5,
      "metadata": {
        "colab": {
          "base_uri": "https://localhost:8080/"
        },
        "id": "q2YnElSwci_T",
        "outputId": "a4bce5e9-651d-4f6e-93ed-5da7d7f62a3e"
      },
      "outputs": [
        {
          "output_type": "stream",
          "name": "stdout",
          "text": [
            "tensorflow                       2.12.0\n",
            "tensorflow-compression           2.12.0\n",
            "tensorflow-datasets              4.9.2\n",
            "tensorflow-estimator             2.12.0\n",
            "tensorflow-federated             0.56.0\n",
            "tensorflow-gcs-config            2.12.0\n",
            "tensorflow-hub                   0.14.0\n",
            "tensorflow-io-gcs-filesystem     0.33.0\n",
            "tensorflow-metadata              1.14.0\n",
            "tensorflow-model-optimization    0.7.3\n",
            "tensorflow-privacy               0.8.8\n",
            "tensorflow-probability           0.15.0\n"
          ]
        }
      ],
      "source": [
        "# show library versions\n",
        "# =========================\n",
        "!pip list | grep tensorflow\n",
        "# tensorflow                    2.12.0\n",
        "# tensorflow-federated          0.56.0"
      ]
    },
    {
      "cell_type": "code",
      "execution_count": 6,
      "metadata": {
        "id": "VY8cX-yZci_U"
      },
      "outputs": [],
      "source": [
        "# suppress tf debug logging\n",
        "# =========================\n",
        "import os\n",
        "os.environ['TF_CPP_MIN_LOG_LEVEL'] = '3'\n",
        "\n",
        "#0 = all messages are logged (default behavior)\n",
        "#1 = INFO messages are not printed\n",
        "#2 = INFO and WARNING messages are not printed\n",
        "#3 = INFO, WARNING, and ERROR messages are not printed\n",
        "\n",
        "# S. https://stackoverflow.com/questions/35911252/disable-tensorflow-debugging-information"
      ]
    },
    {
      "cell_type": "code",
      "execution_count": 7,
      "metadata": {
        "id": "T4Drwowyci_U"
      },
      "outputs": [],
      "source": [
        "# imports\n",
        "# =======\n",
        "\n",
        "# basics: data, calculations and plots\n",
        "import pandas as pd\n",
        "import numpy as np\n",
        "import matplotlib.pyplot as plt\n",
        "\n",
        "# tensorflow (federated) and keras\n",
        "import tensorflow_federated as tff\n",
        "import tensorflow as tf\n",
        "from keras.callbacks import CSVLogger\n",
        "\n",
        "# model selection\n",
        "from sklearn.model_selection import train_test_split, RepeatedStratifiedKFold\n",
        "\n",
        "# statusbar for loops\n",
        "import tqdm\n",
        "\n",
        "# helper functions\n",
        "from FLutils import (\n",
        "    load_df,               # load data\n",
        "    create_keras_model,    # construct a deep neural network (keras)\n",
        "    model_fn,              # convert keras model to tff.learning.models\n",
        "    prep_fed_train,        # convert training data to tensors for learning with tensorflow\n",
        "    prep_fed_test,         # convert test data to tensors for testing with tensorflow (other format than training data)\n",
        "    train_model,           # train a keras model\n",
        "    train_fed              # train a keras model federated with distributed data\n",
        "    )\n"
      ]
    },
    {
      "cell_type": "code",
      "execution_count": 8,
      "metadata": {
        "id": "Unjmqj9fRe6L"
      },
      "outputs": [],
      "source": [
        "# output path for logging\n",
        "# =======================\n",
        "\n",
        "out_path = '../output/experiments'"
      ]
    },
    {
      "cell_type": "markdown",
      "metadata": {
        "id": "OfbB-i3Qci_W"
      },
      "source": [
        "### Data preperation\n",
        "---"
      ]
    },
    {
      "cell_type": "markdown",
      "metadata": {
        "id": "kWstNLDdRe6M"
      },
      "source": [
        "See [pycaret tutorial about the data set](https://nbviewer.org/github/pycaret/pycaret/blob/master/tutorials/Tutorial%20-%20Regression.ipynb)."
      ]
    },
    {
      "cell_type": "code",
      "execution_count": 9,
      "metadata": {
        "colab": {
          "base_uri": "https://localhost:8080/",
          "height": 178
        },
        "id": "EGsvLfT0ci_W",
        "outputId": "a7fdd9fb-1860-4547-cc0c-049c4ef2b474"
      },
      "outputs": [
        {
          "output_type": "stream",
          "name": "stdout",
          "text": [
            "FileNotFoundError in  ../output/data/insurance-clean.csv\n",
            "loaded data from https://raw.githubusercontent.com/Olhaau/fl-official-statistics-addon/main/output/data/insurance-clean.csv\n"
          ]
        },
        {
          "output_type": "execute_result",
          "data": {
            "text/plain": [
              "        age  sex       bmi  children  smoker     region     charges  region0  \\\n",
              "0  0.021739  0.0  0.321227       0.0     1.0  southwest  16884.9240      0.0   \n",
              "1  0.000000  1.0  0.479150       0.2     0.0  southeast   1725.5523      0.0   \n",
              "2  0.217391  1.0  0.458434       0.6     0.0  southeast   4449.4620      0.0   \n",
              "\n",
              "   region1  region2  region3  \n",
              "0      0.0      0.0      1.0  \n",
              "1      0.0      1.0      0.0  \n",
              "2      0.0      1.0      0.0  "
            ],
            "text/html": [
              "\n",
              "  <div id=\"df-0567679c-bcb5-4a18-bc17-49764bc0eb54\" class=\"colab-df-container\">\n",
              "    <div>\n",
              "<style scoped>\n",
              "    .dataframe tbody tr th:only-of-type {\n",
              "        vertical-align: middle;\n",
              "    }\n",
              "\n",
              "    .dataframe tbody tr th {\n",
              "        vertical-align: top;\n",
              "    }\n",
              "\n",
              "    .dataframe thead th {\n",
              "        text-align: right;\n",
              "    }\n",
              "</style>\n",
              "<table border=\"1\" class=\"dataframe\">\n",
              "  <thead>\n",
              "    <tr style=\"text-align: right;\">\n",
              "      <th></th>\n",
              "      <th>age</th>\n",
              "      <th>sex</th>\n",
              "      <th>bmi</th>\n",
              "      <th>children</th>\n",
              "      <th>smoker</th>\n",
              "      <th>region</th>\n",
              "      <th>charges</th>\n",
              "      <th>region0</th>\n",
              "      <th>region1</th>\n",
              "      <th>region2</th>\n",
              "      <th>region3</th>\n",
              "    </tr>\n",
              "  </thead>\n",
              "  <tbody>\n",
              "    <tr>\n",
              "      <th>0</th>\n",
              "      <td>0.021739</td>\n",
              "      <td>0.0</td>\n",
              "      <td>0.321227</td>\n",
              "      <td>0.0</td>\n",
              "      <td>1.0</td>\n",
              "      <td>southwest</td>\n",
              "      <td>16884.9240</td>\n",
              "      <td>0.0</td>\n",
              "      <td>0.0</td>\n",
              "      <td>0.0</td>\n",
              "      <td>1.0</td>\n",
              "    </tr>\n",
              "    <tr>\n",
              "      <th>1</th>\n",
              "      <td>0.000000</td>\n",
              "      <td>1.0</td>\n",
              "      <td>0.479150</td>\n",
              "      <td>0.2</td>\n",
              "      <td>0.0</td>\n",
              "      <td>southeast</td>\n",
              "      <td>1725.5523</td>\n",
              "      <td>0.0</td>\n",
              "      <td>0.0</td>\n",
              "      <td>1.0</td>\n",
              "      <td>0.0</td>\n",
              "    </tr>\n",
              "    <tr>\n",
              "      <th>2</th>\n",
              "      <td>0.217391</td>\n",
              "      <td>1.0</td>\n",
              "      <td>0.458434</td>\n",
              "      <td>0.6</td>\n",
              "      <td>0.0</td>\n",
              "      <td>southeast</td>\n",
              "      <td>4449.4620</td>\n",
              "      <td>0.0</td>\n",
              "      <td>0.0</td>\n",
              "      <td>1.0</td>\n",
              "      <td>0.0</td>\n",
              "    </tr>\n",
              "  </tbody>\n",
              "</table>\n",
              "</div>\n",
              "    <div class=\"colab-df-buttons\">\n",
              "\n",
              "  <div class=\"colab-df-container\">\n",
              "    <button class=\"colab-df-convert\" onclick=\"convertToInteractive('df-0567679c-bcb5-4a18-bc17-49764bc0eb54')\"\n",
              "            title=\"Convert this dataframe to an interactive table.\"\n",
              "            style=\"display:none;\">\n",
              "\n",
              "  <svg xmlns=\"http://www.w3.org/2000/svg\" height=\"24px\" viewBox=\"0 -960 960 960\">\n",
              "    <path d=\"M120-120v-720h720v720H120Zm60-500h600v-160H180v160Zm220 220h160v-160H400v160Zm0 220h160v-160H400v160ZM180-400h160v-160H180v160Zm440 0h160v-160H620v160ZM180-180h160v-160H180v160Zm440 0h160v-160H620v160Z\"/>\n",
              "  </svg>\n",
              "    </button>\n",
              "\n",
              "  <style>\n",
              "    .colab-df-container {\n",
              "      display:flex;\n",
              "      gap: 12px;\n",
              "    }\n",
              "\n",
              "    .colab-df-convert {\n",
              "      background-color: #E8F0FE;\n",
              "      border: none;\n",
              "      border-radius: 50%;\n",
              "      cursor: pointer;\n",
              "      display: none;\n",
              "      fill: #1967D2;\n",
              "      height: 32px;\n",
              "      padding: 0 0 0 0;\n",
              "      width: 32px;\n",
              "    }\n",
              "\n",
              "    .colab-df-convert:hover {\n",
              "      background-color: #E2EBFA;\n",
              "      box-shadow: 0px 1px 2px rgba(60, 64, 67, 0.3), 0px 1px 3px 1px rgba(60, 64, 67, 0.15);\n",
              "      fill: #174EA6;\n",
              "    }\n",
              "\n",
              "    .colab-df-buttons div {\n",
              "      margin-bottom: 4px;\n",
              "    }\n",
              "\n",
              "    [theme=dark] .colab-df-convert {\n",
              "      background-color: #3B4455;\n",
              "      fill: #D2E3FC;\n",
              "    }\n",
              "\n",
              "    [theme=dark] .colab-df-convert:hover {\n",
              "      background-color: #434B5C;\n",
              "      box-shadow: 0px 1px 3px 1px rgba(0, 0, 0, 0.15);\n",
              "      filter: drop-shadow(0px 1px 2px rgba(0, 0, 0, 0.3));\n",
              "      fill: #FFFFFF;\n",
              "    }\n",
              "  </style>\n",
              "\n",
              "    <script>\n",
              "      const buttonEl =\n",
              "        document.querySelector('#df-0567679c-bcb5-4a18-bc17-49764bc0eb54 button.colab-df-convert');\n",
              "      buttonEl.style.display =\n",
              "        google.colab.kernel.accessAllowed ? 'block' : 'none';\n",
              "\n",
              "      async function convertToInteractive(key) {\n",
              "        const element = document.querySelector('#df-0567679c-bcb5-4a18-bc17-49764bc0eb54');\n",
              "        const dataTable =\n",
              "          await google.colab.kernel.invokeFunction('convertToInteractive',\n",
              "                                                    [key], {});\n",
              "        if (!dataTable) return;\n",
              "\n",
              "        const docLinkHtml = 'Like what you see? Visit the ' +\n",
              "          '<a target=\"_blank\" href=https://colab.research.google.com/notebooks/data_table.ipynb>data table notebook</a>'\n",
              "          + ' to learn more about interactive tables.';\n",
              "        element.innerHTML = '';\n",
              "        dataTable['output_type'] = 'display_data';\n",
              "        await google.colab.output.renderOutput(dataTable, element);\n",
              "        const docLink = document.createElement('div');\n",
              "        docLink.innerHTML = docLinkHtml;\n",
              "        element.appendChild(docLink);\n",
              "      }\n",
              "    </script>\n",
              "  </div>\n",
              "\n",
              "    </div>\n",
              "  </div>\n"
            ]
          },
          "metadata": {},
          "execution_count": 9
        }
      ],
      "source": [
        "# ingest data\n",
        "# ===========\n",
        "\n",
        "df_paths = [\n",
        "    '../output/data/insurance-clean.csv',\n",
        "    \"https://raw.githubusercontent.com/Olhaau/fl-official-statistics-addon/main/output/data/insurance-clean.csv\"\n",
        "]\n",
        "\n",
        "# rem.: even easier with pycaret:\n",
        "#from pycaret.datasets import get_data\n",
        "#df = get_data('insurance')\n",
        "\n",
        "df = load_df(df_paths)\n",
        "df.head(3)"
      ]
    },
    {
      "cell_type": "code",
      "execution_count": 11,
      "metadata": {
        "colab": {
          "base_uri": "https://localhost:8080/"
        },
        "id": "HUzs2t7qRe6N",
        "outputId": "3806eb14-de4e-4cff-8eac-5db0d48733ea"
      },
      "outputs": [
        {
          "output_type": "execute_result",
          "data": {
            "text/plain": [
              "(1338, 11)"
            ]
          },
          "metadata": {},
          "execution_count": 11
        }
      ],
      "source": [
        "df.shape\n",
        "#> (1338, 11)"
      ]
    },
    {
      "cell_type": "code",
      "execution_count": 15,
      "metadata": {
        "colab": {
          "base_uri": "https://localhost:8080/",
          "height": 143
        },
        "id": "pTWLHmEqci_X",
        "outputId": "a05038e5-a535-4f4f-9248-559db5b1a8a7"
      },
      "outputs": [
        {
          "output_type": "execute_result",
          "data": {
            "text/plain": [
              "      charges       age  sex       bmi  children  smoker  region0  region1  \\\n",
              "0  16884.9240  0.021739  0.0  0.321227       0.0     1.0      0.0      0.0   \n",
              "1   1725.5523  0.000000  1.0  0.479150       0.2     0.0      0.0      0.0   \n",
              "2   4449.4620  0.217391  1.0  0.458434       0.6     0.0      0.0      0.0   \n",
              "\n",
              "   region2  region3  \n",
              "0      0.0      1.0  \n",
              "1      1.0      0.0  \n",
              "2      1.0      0.0  "
            ],
            "text/html": [
              "\n",
              "  <div id=\"df-125cdc00-ebcb-4405-93cb-28a259e51737\" class=\"colab-df-container\">\n",
              "    <div>\n",
              "<style scoped>\n",
              "    .dataframe tbody tr th:only-of-type {\n",
              "        vertical-align: middle;\n",
              "    }\n",
              "\n",
              "    .dataframe tbody tr th {\n",
              "        vertical-align: top;\n",
              "    }\n",
              "\n",
              "    .dataframe thead th {\n",
              "        text-align: right;\n",
              "    }\n",
              "</style>\n",
              "<table border=\"1\" class=\"dataframe\">\n",
              "  <thead>\n",
              "    <tr style=\"text-align: right;\">\n",
              "      <th></th>\n",
              "      <th>charges</th>\n",
              "      <th>age</th>\n",
              "      <th>sex</th>\n",
              "      <th>bmi</th>\n",
              "      <th>children</th>\n",
              "      <th>smoker</th>\n",
              "      <th>region0</th>\n",
              "      <th>region1</th>\n",
              "      <th>region2</th>\n",
              "      <th>region3</th>\n",
              "    </tr>\n",
              "  </thead>\n",
              "  <tbody>\n",
              "    <tr>\n",
              "      <th>0</th>\n",
              "      <td>16884.9240</td>\n",
              "      <td>0.021739</td>\n",
              "      <td>0.0</td>\n",
              "      <td>0.321227</td>\n",
              "      <td>0.0</td>\n",
              "      <td>1.0</td>\n",
              "      <td>0.0</td>\n",
              "      <td>0.0</td>\n",
              "      <td>0.0</td>\n",
              "      <td>1.0</td>\n",
              "    </tr>\n",
              "    <tr>\n",
              "      <th>1</th>\n",
              "      <td>1725.5523</td>\n",
              "      <td>0.000000</td>\n",
              "      <td>1.0</td>\n",
              "      <td>0.479150</td>\n",
              "      <td>0.2</td>\n",
              "      <td>0.0</td>\n",
              "      <td>0.0</td>\n",
              "      <td>0.0</td>\n",
              "      <td>1.0</td>\n",
              "      <td>0.0</td>\n",
              "    </tr>\n",
              "    <tr>\n",
              "      <th>2</th>\n",
              "      <td>4449.4620</td>\n",
              "      <td>0.217391</td>\n",
              "      <td>1.0</td>\n",
              "      <td>0.458434</td>\n",
              "      <td>0.6</td>\n",
              "      <td>0.0</td>\n",
              "      <td>0.0</td>\n",
              "      <td>0.0</td>\n",
              "      <td>1.0</td>\n",
              "      <td>0.0</td>\n",
              "    </tr>\n",
              "  </tbody>\n",
              "</table>\n",
              "</div>\n",
              "    <div class=\"colab-df-buttons\">\n",
              "\n",
              "  <div class=\"colab-df-container\">\n",
              "    <button class=\"colab-df-convert\" onclick=\"convertToInteractive('df-125cdc00-ebcb-4405-93cb-28a259e51737')\"\n",
              "            title=\"Convert this dataframe to an interactive table.\"\n",
              "            style=\"display:none;\">\n",
              "\n",
              "  <svg xmlns=\"http://www.w3.org/2000/svg\" height=\"24px\" viewBox=\"0 -960 960 960\">\n",
              "    <path d=\"M120-120v-720h720v720H120Zm60-500h600v-160H180v160Zm220 220h160v-160H400v160Zm0 220h160v-160H400v160ZM180-400h160v-160H180v160Zm440 0h160v-160H620v160ZM180-180h160v-160H180v160Zm440 0h160v-160H620v160Z\"/>\n",
              "  </svg>\n",
              "    </button>\n",
              "\n",
              "  <style>\n",
              "    .colab-df-container {\n",
              "      display:flex;\n",
              "      gap: 12px;\n",
              "    }\n",
              "\n",
              "    .colab-df-convert {\n",
              "      background-color: #E8F0FE;\n",
              "      border: none;\n",
              "      border-radius: 50%;\n",
              "      cursor: pointer;\n",
              "      display: none;\n",
              "      fill: #1967D2;\n",
              "      height: 32px;\n",
              "      padding: 0 0 0 0;\n",
              "      width: 32px;\n",
              "    }\n",
              "\n",
              "    .colab-df-convert:hover {\n",
              "      background-color: #E2EBFA;\n",
              "      box-shadow: 0px 1px 2px rgba(60, 64, 67, 0.3), 0px 1px 3px 1px rgba(60, 64, 67, 0.15);\n",
              "      fill: #174EA6;\n",
              "    }\n",
              "\n",
              "    .colab-df-buttons div {\n",
              "      margin-bottom: 4px;\n",
              "    }\n",
              "\n",
              "    [theme=dark] .colab-df-convert {\n",
              "      background-color: #3B4455;\n",
              "      fill: #D2E3FC;\n",
              "    }\n",
              "\n",
              "    [theme=dark] .colab-df-convert:hover {\n",
              "      background-color: #434B5C;\n",
              "      box-shadow: 0px 1px 3px 1px rgba(0, 0, 0, 0.15);\n",
              "      filter: drop-shadow(0px 1px 2px rgba(0, 0, 0, 0.3));\n",
              "      fill: #FFFFFF;\n",
              "    }\n",
              "  </style>\n",
              "\n",
              "    <script>\n",
              "      const buttonEl =\n",
              "        document.querySelector('#df-125cdc00-ebcb-4405-93cb-28a259e51737 button.colab-df-convert');\n",
              "      buttonEl.style.display =\n",
              "        google.colab.kernel.accessAllowed ? 'block' : 'none';\n",
              "\n",
              "      async function convertToInteractive(key) {\n",
              "        const element = document.querySelector('#df-125cdc00-ebcb-4405-93cb-28a259e51737');\n",
              "        const dataTable =\n",
              "          await google.colab.kernel.invokeFunction('convertToInteractive',\n",
              "                                                    [key], {});\n",
              "        if (!dataTable) return;\n",
              "\n",
              "        const docLinkHtml = 'Like what you see? Visit the ' +\n",
              "          '<a target=\"_blank\" href=https://colab.research.google.com/notebooks/data_table.ipynb>data table notebook</a>'\n",
              "          + ' to learn more about interactive tables.';\n",
              "        element.innerHTML = '';\n",
              "        dataTable['output_type'] = 'display_data';\n",
              "        await google.colab.output.renderOutput(dataTable, element);\n",
              "        const docLink = document.createElement('div');\n",
              "        docLink.innerHTML = docLinkHtml;\n",
              "        element.appendChild(docLink);\n",
              "      }\n",
              "    </script>\n",
              "  </div>\n",
              "\n",
              "    </div>\n",
              "  </div>\n"
            ]
          },
          "metadata": {},
          "execution_count": 15
        }
      ],
      "source": [
        "# select features, target (first column) and clients\n",
        "# ==================================================\n",
        "\n",
        "# features for centralized learning\n",
        "features = ['age', 'sex', 'bmi', 'children', 'smoker'\n",
        "            , 'region0', 'region1', 'region2', 'region3']\n",
        "\n",
        "target = 'charges'\n",
        "\n",
        "# features for federated learning\n",
        "features_fed = features[:5]\n",
        "\n",
        "# clients for data splits\n",
        "clients = df.region.unique()\n",
        "\n",
        "# show target + features in the data\n",
        "df.loc[:, [target] + features].head(3)"
      ]
    },
    {
      "cell_type": "markdown",
      "metadata": {
        "id": "ZUjlgi3_ci_X"
      },
      "source": [
        "### Budget\n",
        "---"
      ]
    },
    {
      "cell_type": "markdown",
      "metadata": {
        "id": "m_Qj5rJ_Re6O"
      },
      "source": [
        "#### Evaluation\n",
        "\n",
        "For fast explorations the budget can be reduced significantly. Recommended are\n",
        "\n",
        "- `nreps = 1`: only one rep is required\n",
        "- `nfolds` > 3: at least 3 cross validation folds to have enough training data\n",
        "- `n_epochs`, `n_epochs_fed`, `n_rounds_fed`: can for technical test be very small (~ 10). For methodological test at least 50-100 iterations are needed to show the resulting performance, e.g. `n_epochs` > 60 or `n_epochs_fed` + `n_rounds_fed` > 60"
      ]
    },
    {
      "cell_type": "code",
      "execution_count": 13,
      "metadata": {
        "id": "FbpM29mRci_Y"
      },
      "outputs": [],
      "source": [
        "# create evaluation splits\n",
        "# ========================\n",
        "\n",
        "nreps, nfolds = 2, 2\n",
        "evaluation = RepeatedStratifiedKFold(n_splits = nfolds, n_repeats = nreps, random_state = 42)\n"
      ]
    },
    {
      "cell_type": "markdown",
      "metadata": {
        "id": "9jzJRfuvci_Y"
      },
      "source": [
        "#### Training"
      ]
    },
    {
      "cell_type": "code",
      "execution_count": 12,
      "metadata": {
        "id": "gRGyiTwNci_Y"
      },
      "outputs": [],
      "source": [
        "# training budget\n",
        "# ===============\n",
        "\n",
        "n_epochs     = 50 # epochs (centralized training)\n",
        "n_epochs_fed =  25 # epochs for each client in one server iteration (federated training)\n",
        "n_rounds_fed =  25 # federated training rounds including distribution to the clients and aggregation of the results"
      ]
    },
    {
      "cell_type": "markdown",
      "metadata": {
        "id": "WputHxfvci_Z"
      },
      "source": [
        "### Model\n",
        "---"
      ]
    },
    {
      "cell_type": "code",
      "execution_count": 16,
      "metadata": {
        "colab": {
          "base_uri": "https://localhost:8080/"
        },
        "id": "ZqpIq7xMci_Z",
        "outputId": "61504fc3-7a47-40fa-e2e6-0c589680b322"
      },
      "outputs": [
        {
          "output_type": "stream",
          "name": "stdout",
          "text": [
            "Model: \"sequential\"\n",
            "_________________________________________________________________\n",
            " Layer (type)                Output Shape              Param #   \n",
            "=================================================================\n",
            " dense (Dense)               (None, 40)                240       \n",
            "                                                                 \n",
            " dense_1 (Dense)             (None, 40)                1640      \n",
            "                                                                 \n",
            " dense_2 (Dense)             (None, 20)                820       \n",
            "                                                                 \n",
            " dense_3 (Dense)             (None, 1)                 21        \n",
            "                                                                 \n",
            "=================================================================\n",
            "Total params: 2,721\n",
            "Trainable params: 2,721\n",
            "Non-trainable params: 0\n",
            "_________________________________________________________________\n"
          ]
        },
        {
          "output_type": "execute_result",
          "data": {
            "text/plain": [
              "{'optimizer': {'module': 'keras.optimizers.legacy',\n",
              "  'class_name': 'Adam',\n",
              "  'config': {'name': 'Adam',\n",
              "   'learning_rate': 0.05,\n",
              "   'decay': 0.0,\n",
              "   'beta_1': 0.9,\n",
              "   'beta_2': 0.999,\n",
              "   'epsilon': 1e-07,\n",
              "   'amsgrad': False},\n",
              "  'registered_name': None},\n",
              " 'loss': 'mean_squared_error',\n",
              " 'metrics': ['mae',\n",
              "  'mean_squared_error',\n",
              "  {'module': 'sklearn.metrics._regression',\n",
              "   'class_name': 'function',\n",
              "   'config': 'r2_score',\n",
              "   'registered_name': 'r2_score'}],\n",
              " 'loss_weights': None,\n",
              " 'weighted_metrics': None,\n",
              " 'run_eagerly': True,\n",
              " 'steps_per_execution': None,\n",
              " 'jit_compile': None}"
            ]
          },
          "metadata": {},
          "execution_count": 16
        }
      ],
      "source": [
        "# define model architecture\n",
        "# =========================\n",
        "\n",
        "def keras_blueprint(compile = False, nfeatures = len(features_fed)):\n",
        "    if nfeatures == None: nfeatures = len(features)\n",
        "\n",
        "    return create_keras_model(\n",
        "        nfeatures = nfeatures,\n",
        "        units = [40, 40, 20],\n",
        "        activations = ['relu'] * 3,\n",
        "        compile = compile)\n",
        "\n",
        "# Note 1: we do not compile the model yet. The loss, metrics, and optimizers are introduced later.\n",
        "#   S. https://www.tensorflow.org/federated/tutorials/federated_learning_for_image_classification#creating_a_model_with_keras\n",
        "# Note 2: this function has to generate a new instance of a keras_model\n",
        "#   to be useable for generating a federated learning process\n",
        "# Note 3: loss = mae -> overfitting?\n",
        "\n",
        "# show the model specifics\n",
        "keras_blueprint().summary()\n",
        "keras_blueprint(compile=True).get_compile_config()"
      ]
    },
    {
      "cell_type": "markdown",
      "metadata": {
        "id": "d-g0ccvFRe6P"
      },
      "source": [
        "### Federated Process\n",
        "---"
      ]
    },
    {
      "cell_type": "markdown",
      "metadata": {
        "id": "zhseMjdLRe6Q"
      },
      "source": [
        "In [TensorFlow Federated](https://www.tensorflow.org/federated), the default server optimizer function is [tf.keras.optimizers.SGD](https://www.tensorflow.org/api_docs/python/tf/keras/optimizers/experimental/SGD) with a learning rate of 1.0, which corresponds to adding the model delta to the current server model. This recovers the original FedAvg algorithm in [McMahan et al., 2017](https://arxiv.org/abs/1602.05629) (cf. [tff.learning.algorithms.build_weighted_fed_avg](https://www.tensorflow.org/federated/api_docs/python/tff/learning/algorithms/build_weighted_fed_avg)).\n",
        "\n",
        "\n",
        "We modified the server optimizer to use `Adam` with a learning rate of `0.05`. led to increased stability in our training performance. In the cross-device setting, as demonstrated by [Reddi et al., 2021](https://arxiv.org/abs/2003.00295), adaptive optimizers outperform non-adaptive ones, particularly when dealing with client drift, aka inhomogenous clients.     \n",
        "\n",
        "![](https://github.com/Olhaau/fl-official-statistics-addon/blob/main/doc/reddi20-algo2.png?raw=1)"
      ]
    },
    {
      "cell_type": "markdown",
      "metadata": {
        "id": "MP3J3IRlRe6Q"
      },
      "source": [
        "Technically, the federated training process is constructed from a keras model in the function `train_fed`. See `help(train_fed)`. We use the following process:"
      ]
    },
    {
      "cell_type": "code",
      "execution_count": 17,
      "metadata": {
        "colab": {
          "base_uri": "https://localhost:8080/"
        },
        "id": "nD6XZI3iRe6Q",
        "outputId": "3dece3e7-5775-47fb-b619-192def375185"
      },
      "outputs": [
        {
          "output_type": "stream",
          "name": "stdout",
          "text": [
            "( -> <\n",
            "  global_model_weights=<\n",
            "    trainable=<\n",
            "      float32[5,40],\n",
            "      float32[40],\n",
            "      float32[40,40],\n",
            "      float32[40],\n",
            "      float32[40,20],\n",
            "      float32[20],\n",
            "      float32[20,1],\n",
            "      float32[1]\n",
            "    >,\n",
            "    non_trainable=<>\n",
            "  >,\n",
            "  distributor=<>,\n",
            "  client_work=<>,\n",
            "  aggregator=<\n",
            "    value_sum_process=<>,\n",
            "    weight_sum_process=<>\n",
            "  >,\n",
            "  finalizer=<\n",
            "    int64,\n",
            "    float32[5,40],\n",
            "    float32[5,40],\n",
            "    float32[40],\n",
            "    float32[40],\n",
            "    float32[40,40],\n",
            "    float32[40,40],\n",
            "    float32[40],\n",
            "    float32[40],\n",
            "    float32[40,20],\n",
            "    float32[40,20],\n",
            "    float32[20],\n",
            "    float32[20],\n",
            "    float32[20,1],\n",
            "    float32[20,1],\n",
            "    float32[1],\n",
            "    float32[1]\n",
            "  >\n",
            ">@SERVER)\n"
          ]
        }
      ],
      "source": [
        "# show the federated learning process\n",
        "# ===================================\n",
        "tff_process = tff.learning.algorithms.build_weighted_fed_avg(\n",
        "\tmodel_fn(\n",
        "\t\tkeras_creator = keras_blueprint,\n",
        "\t\tloss = tf.losses.MeanSquaredError()\n",
        "\t),\n",
        "\tclient_optimizer_fn = lambda: tf.optimizers.Adam(learning_rate = .05),\n",
        "\tserver_optimizer_fn = lambda: tf.optimizers.Adam(learning_rate = .05)\n",
        " )\n",
        "\n",
        "print(tff_process.initialize.type_signature.formatted_representation())\n"
      ]
    },
    {
      "cell_type": "markdown",
      "metadata": {
        "id": "X9T5uL8Yci_Z"
      },
      "source": [
        "## Federated Learning\n",
        "---"
      ]
    },
    {
      "cell_type": "code",
      "execution_count": 18,
      "metadata": {
        "id": "3mnu5RlYci_a"
      },
      "outputs": [],
      "source": [
        "# experiment logging\n",
        "# ==================\n",
        "\n",
        "experiment_name = '06_federated_fix'\n",
        "\n",
        "experiment_path = out_path + \"/\" + experiment_name + \"/\"\n",
        "if not os.path.exists(experiment_path + 'logs'): os.makedirs(experiment_path + 'logs')\n",
        "if not os.path.exists(experiment_path + 'models'): os.makedirs(experiment_path + 'models')\n",
        "if not os.path.exists(experiment_path + 'results'): os.makedirs(experiment_path + 'results')"
      ]
    },
    {
      "cell_type": "markdown",
      "metadata": {
        "id": "YiAUC-sDci_a"
      },
      "source": [
        "### FED Train\n",
        "---"
      ]
    },
    {
      "cell_type": "code",
      "execution_count": 19,
      "metadata": {
        "colab": {
          "base_uri": "https://localhost:8080/"
        },
        "id": "B6BePRvFci_a",
        "outputId": "5d8c891e-36c4-4c4a-e86a-941a0b4f2e7a"
      },
      "outputs": [
        {
          "output_type": "stream",
          "name": "stderr",
          "text": [
            "100%|██████████| 4/4 [02:26<00:00, 36.53s/it]\n"
          ]
        }
      ],
      "source": [
        "# compute train\n",
        "# =============\n",
        "\n",
        "results_fed = []\n",
        "\n",
        "eval_ind = 0 #nfolds*7#0\n",
        "for train, test in tqdm.tqdm(list(evaluation.split(df, df.region))[:]):\n",
        "\n",
        "    # Logging\n",
        "    rep  = int(eval_ind / nfolds)\n",
        "    fold = int(eval_ind % nfolds)\n",
        "    eval_ind += 1\n",
        "    id = \"r\" + str(rep) + \"f\" + str(fold)\n",
        "    #print('======= rep %s - fold %s  =======' % (rep, fold))\n",
        "\n",
        "\n",
        "    # distribute train (and eval) data over the client and prep tensors.\n",
        "    train_data_fed = []\n",
        "    eval_data_fed  = []\n",
        "    for client in clients:\n",
        "        outer_train_data_client = df[(df.index.isin(train)) & (df.region == client)]\n",
        "        train_data_client, eval_data_client = train_test_split(outer_train_data_client, test_size = 0.1, random_state = 42)\n",
        "\n",
        "        train_data_fed.append(\n",
        "            prep_fed_train(train_data_client[features_fed], train_data_client[target]))\n",
        "        eval_data_fed.append(\n",
        "            prep_fed_test(eval_data_client[features_fed], eval_data_client[target]))\n",
        "\n",
        "    # train\n",
        "    #with tf.device('/device:gpu:0'): # possibly needed for colab\n",
        "    result =  train_fed(\n",
        "        model = model_fn(\n",
        "            keras_creator = keras_blueprint,\n",
        "            loss = tf.losses.MeanSquaredError()\n",
        "        ),\n",
        "        train_data = train_data_fed,\n",
        "        eval_data  = eval_data_fed,\n",
        "        NUM_ROUNDS = n_rounds_fed,\n",
        "        NUM_EPOCHS = n_epochs_fed,\n",
        "        client_optimizer = lambda: tf.optimizers.Adam(learning_rate = .05),\n",
        "        server_optimizer = lambda: tf.optimizers.Adam(learning_rate = .05),\n",
        "        BATCH_SIZE = 128,\n",
        "        SHUFFLE_BUFFER = 20,\n",
        "        PREFETCH_BUFFER = 5,\n",
        "        SEED = 42,\n",
        "        verbose = False\n",
        "    )\n",
        "\n",
        "    # save history\n",
        "    pd.DataFrame(result['history']).to_csv(experiment_path + \"logs/\" + id + '_log.csv', sep = \";\")\n",
        "\n",
        "    # save model\n",
        "    model = keras_blueprint()\n",
        "    model_weights = result['process'].get_model_weights(result['state'])\n",
        "    model_weights.assign_weights_to(model)\n",
        "    model.save_weights(experiment_path + \"models/\" + id + '_weights.h5')\n",
        "\n",
        "    # Note: load with e.g.\n",
        "    #   model = keras_blueprint(compile = True)\n",
        "    #   model.load_weights(experiment_path + 'models/r0f0_weights.h5')\n",
        "    #   model.weights\n",
        "\n",
        "    results_fed.append(result)"
      ]
    },
    {
      "cell_type": "code",
      "execution_count": 20,
      "metadata": {
        "colab": {
          "base_uri": "https://localhost:8080/",
          "height": 320
        },
        "id": "eNwY1d8kci_b",
        "outputId": "8592dcd5-a140-44bf-ec36-e1e67ea148ee"
      },
      "outputs": [
        {
          "output_type": "execute_result",
          "data": {
            "text/plain": [
              "       mean_absolute_error  mean_squared_error        loss  num_examples  \\\n",
              "count                 4.00                 4.0         4.0           4.0   \n",
              "mean               4471.53          43966988.0  44155544.0       14975.0   \n",
              "std                 238.17           4190615.0   4137392.5           0.0   \n",
              "min                4119.82          39269944.0  39456196.0       14975.0   \n",
              "25%                4428.39          41019094.0  41291854.0       14975.0   \n",
              "50%                4568.39          44441688.0  44696510.0       14975.0   \n",
              "75%                4611.52          47389582.0  47560202.0       14975.0   \n",
              "max                4629.51          47714632.0  47772968.0       14975.0   \n",
              "\n",
              "       num_batches  val_mean_absolute_error  val_mean_squared_error  \\\n",
              "count          4.0                     4.00                     4.0   \n",
              "mean         119.0                  8112.74              82941056.0   \n",
              "std            0.0                   894.87              13300157.0   \n",
              "min          119.0                  6820.19              65452376.0   \n",
              "25%          119.0                  7888.33              77399462.0   \n",
              "50%          119.0                  8397.62              84659972.0   \n",
              "75%          119.0                  8622.03              90201570.0   \n",
              "max          119.0                  8835.51              96991920.0   \n",
              "\n",
              "         val_loss  val_num_examples  val_num_batches  \n",
              "count         4.0               4.0              4.0  \n",
              "mean   83146016.0              70.0              4.0  \n",
              "std    13652661.0               0.0              0.0  \n",
              "min    65189084.0              70.0              4.0  \n",
              "25%    77617295.0              70.0              4.0  \n",
              "50%    84845932.0              70.0              4.0  \n",
              "75%    90374652.0              70.0              4.0  \n",
              "max    97703112.0              70.0              4.0  "
            ],
            "text/html": [
              "\n",
              "  <div id=\"df-8e34f5d8-2724-42b5-879f-1bb4dd98e49a\" class=\"colab-df-container\">\n",
              "    <div>\n",
              "<style scoped>\n",
              "    .dataframe tbody tr th:only-of-type {\n",
              "        vertical-align: middle;\n",
              "    }\n",
              "\n",
              "    .dataframe tbody tr th {\n",
              "        vertical-align: top;\n",
              "    }\n",
              "\n",
              "    .dataframe thead th {\n",
              "        text-align: right;\n",
              "    }\n",
              "</style>\n",
              "<table border=\"1\" class=\"dataframe\">\n",
              "  <thead>\n",
              "    <tr style=\"text-align: right;\">\n",
              "      <th></th>\n",
              "      <th>mean_absolute_error</th>\n",
              "      <th>mean_squared_error</th>\n",
              "      <th>loss</th>\n",
              "      <th>num_examples</th>\n",
              "      <th>num_batches</th>\n",
              "      <th>val_mean_absolute_error</th>\n",
              "      <th>val_mean_squared_error</th>\n",
              "      <th>val_loss</th>\n",
              "      <th>val_num_examples</th>\n",
              "      <th>val_num_batches</th>\n",
              "    </tr>\n",
              "  </thead>\n",
              "  <tbody>\n",
              "    <tr>\n",
              "      <th>count</th>\n",
              "      <td>4.00</td>\n",
              "      <td>4.0</td>\n",
              "      <td>4.0</td>\n",
              "      <td>4.0</td>\n",
              "      <td>4.0</td>\n",
              "      <td>4.00</td>\n",
              "      <td>4.0</td>\n",
              "      <td>4.0</td>\n",
              "      <td>4.0</td>\n",
              "      <td>4.0</td>\n",
              "    </tr>\n",
              "    <tr>\n",
              "      <th>mean</th>\n",
              "      <td>4471.53</td>\n",
              "      <td>43966988.0</td>\n",
              "      <td>44155544.0</td>\n",
              "      <td>14975.0</td>\n",
              "      <td>119.0</td>\n",
              "      <td>8112.74</td>\n",
              "      <td>82941056.0</td>\n",
              "      <td>83146016.0</td>\n",
              "      <td>70.0</td>\n",
              "      <td>4.0</td>\n",
              "    </tr>\n",
              "    <tr>\n",
              "      <th>std</th>\n",
              "      <td>238.17</td>\n",
              "      <td>4190615.0</td>\n",
              "      <td>4137392.5</td>\n",
              "      <td>0.0</td>\n",
              "      <td>0.0</td>\n",
              "      <td>894.87</td>\n",
              "      <td>13300157.0</td>\n",
              "      <td>13652661.0</td>\n",
              "      <td>0.0</td>\n",
              "      <td>0.0</td>\n",
              "    </tr>\n",
              "    <tr>\n",
              "      <th>min</th>\n",
              "      <td>4119.82</td>\n",
              "      <td>39269944.0</td>\n",
              "      <td>39456196.0</td>\n",
              "      <td>14975.0</td>\n",
              "      <td>119.0</td>\n",
              "      <td>6820.19</td>\n",
              "      <td>65452376.0</td>\n",
              "      <td>65189084.0</td>\n",
              "      <td>70.0</td>\n",
              "      <td>4.0</td>\n",
              "    </tr>\n",
              "    <tr>\n",
              "      <th>25%</th>\n",
              "      <td>4428.39</td>\n",
              "      <td>41019094.0</td>\n",
              "      <td>41291854.0</td>\n",
              "      <td>14975.0</td>\n",
              "      <td>119.0</td>\n",
              "      <td>7888.33</td>\n",
              "      <td>77399462.0</td>\n",
              "      <td>77617295.0</td>\n",
              "      <td>70.0</td>\n",
              "      <td>4.0</td>\n",
              "    </tr>\n",
              "    <tr>\n",
              "      <th>50%</th>\n",
              "      <td>4568.39</td>\n",
              "      <td>44441688.0</td>\n",
              "      <td>44696510.0</td>\n",
              "      <td>14975.0</td>\n",
              "      <td>119.0</td>\n",
              "      <td>8397.62</td>\n",
              "      <td>84659972.0</td>\n",
              "      <td>84845932.0</td>\n",
              "      <td>70.0</td>\n",
              "      <td>4.0</td>\n",
              "    </tr>\n",
              "    <tr>\n",
              "      <th>75%</th>\n",
              "      <td>4611.52</td>\n",
              "      <td>47389582.0</td>\n",
              "      <td>47560202.0</td>\n",
              "      <td>14975.0</td>\n",
              "      <td>119.0</td>\n",
              "      <td>8622.03</td>\n",
              "      <td>90201570.0</td>\n",
              "      <td>90374652.0</td>\n",
              "      <td>70.0</td>\n",
              "      <td>4.0</td>\n",
              "    </tr>\n",
              "    <tr>\n",
              "      <th>max</th>\n",
              "      <td>4629.51</td>\n",
              "      <td>47714632.0</td>\n",
              "      <td>47772968.0</td>\n",
              "      <td>14975.0</td>\n",
              "      <td>119.0</td>\n",
              "      <td>8835.51</td>\n",
              "      <td>96991920.0</td>\n",
              "      <td>97703112.0</td>\n",
              "      <td>70.0</td>\n",
              "      <td>4.0</td>\n",
              "    </tr>\n",
              "  </tbody>\n",
              "</table>\n",
              "</div>\n",
              "    <div class=\"colab-df-buttons\">\n",
              "\n",
              "  <div class=\"colab-df-container\">\n",
              "    <button class=\"colab-df-convert\" onclick=\"convertToInteractive('df-8e34f5d8-2724-42b5-879f-1bb4dd98e49a')\"\n",
              "            title=\"Convert this dataframe to an interactive table.\"\n",
              "            style=\"display:none;\">\n",
              "\n",
              "  <svg xmlns=\"http://www.w3.org/2000/svg\" height=\"24px\" viewBox=\"0 -960 960 960\">\n",
              "    <path d=\"M120-120v-720h720v720H120Zm60-500h600v-160H180v160Zm220 220h160v-160H400v160Zm0 220h160v-160H400v160ZM180-400h160v-160H180v160Zm440 0h160v-160H620v160ZM180-180h160v-160H180v160Zm440 0h160v-160H620v160Z\"/>\n",
              "  </svg>\n",
              "    </button>\n",
              "\n",
              "  <style>\n",
              "    .colab-df-container {\n",
              "      display:flex;\n",
              "      gap: 12px;\n",
              "    }\n",
              "\n",
              "    .colab-df-convert {\n",
              "      background-color: #E8F0FE;\n",
              "      border: none;\n",
              "      border-radius: 50%;\n",
              "      cursor: pointer;\n",
              "      display: none;\n",
              "      fill: #1967D2;\n",
              "      height: 32px;\n",
              "      padding: 0 0 0 0;\n",
              "      width: 32px;\n",
              "    }\n",
              "\n",
              "    .colab-df-convert:hover {\n",
              "      background-color: #E2EBFA;\n",
              "      box-shadow: 0px 1px 2px rgba(60, 64, 67, 0.3), 0px 1px 3px 1px rgba(60, 64, 67, 0.15);\n",
              "      fill: #174EA6;\n",
              "    }\n",
              "\n",
              "    .colab-df-buttons div {\n",
              "      margin-bottom: 4px;\n",
              "    }\n",
              "\n",
              "    [theme=dark] .colab-df-convert {\n",
              "      background-color: #3B4455;\n",
              "      fill: #D2E3FC;\n",
              "    }\n",
              "\n",
              "    [theme=dark] .colab-df-convert:hover {\n",
              "      background-color: #434B5C;\n",
              "      box-shadow: 0px 1px 3px 1px rgba(0, 0, 0, 0.15);\n",
              "      filter: drop-shadow(0px 1px 2px rgba(0, 0, 0, 0.3));\n",
              "      fill: #FFFFFF;\n",
              "    }\n",
              "  </style>\n",
              "\n",
              "    <script>\n",
              "      const buttonEl =\n",
              "        document.querySelector('#df-8e34f5d8-2724-42b5-879f-1bb4dd98e49a button.colab-df-convert');\n",
              "      buttonEl.style.display =\n",
              "        google.colab.kernel.accessAllowed ? 'block' : 'none';\n",
              "\n",
              "      async function convertToInteractive(key) {\n",
              "        const element = document.querySelector('#df-8e34f5d8-2724-42b5-879f-1bb4dd98e49a');\n",
              "        const dataTable =\n",
              "          await google.colab.kernel.invokeFunction('convertToInteractive',\n",
              "                                                    [key], {});\n",
              "        if (!dataTable) return;\n",
              "\n",
              "        const docLinkHtml = 'Like what you see? Visit the ' +\n",
              "          '<a target=\"_blank\" href=https://colab.research.google.com/notebooks/data_table.ipynb>data table notebook</a>'\n",
              "          + ' to learn more about interactive tables.';\n",
              "        element.innerHTML = '';\n",
              "        dataTable['output_type'] = 'display_data';\n",
              "        await google.colab.output.renderOutput(dataTable, element);\n",
              "        const docLink = document.createElement('div');\n",
              "        docLink.innerHTML = docLinkHtml;\n",
              "        element.appendChild(docLink);\n",
              "      }\n",
              "    </script>\n",
              "  </div>\n",
              "\n",
              "\n",
              "<div id=\"df-dcde8da3-c56e-4525-b4b6-ed292306cac0\">\n",
              "  <button class=\"colab-df-quickchart\" onclick=\"quickchart('df-dcde8da3-c56e-4525-b4b6-ed292306cac0')\"\n",
              "            title=\"Suggest charts.\"\n",
              "            style=\"display:none;\">\n",
              "\n",
              "<svg xmlns=\"http://www.w3.org/2000/svg\" height=\"24px\"viewBox=\"0 0 24 24\"\n",
              "     width=\"24px\">\n",
              "    <g>\n",
              "        <path d=\"M19 3H5c-1.1 0-2 .9-2 2v14c0 1.1.9 2 2 2h14c1.1 0 2-.9 2-2V5c0-1.1-.9-2-2-2zM9 17H7v-7h2v7zm4 0h-2V7h2v10zm4 0h-2v-4h2v4z\"/>\n",
              "    </g>\n",
              "</svg>\n",
              "  </button>\n",
              "\n",
              "<style>\n",
              "  .colab-df-quickchart {\n",
              "    background-color: #E8F0FE;\n",
              "    border: none;\n",
              "    border-radius: 50%;\n",
              "    cursor: pointer;\n",
              "    display: none;\n",
              "    fill: #1967D2;\n",
              "    height: 32px;\n",
              "    padding: 0 0 0 0;\n",
              "    width: 32px;\n",
              "  }\n",
              "\n",
              "  .colab-df-quickchart:hover {\n",
              "    background-color: #E2EBFA;\n",
              "    box-shadow: 0px 1px 2px rgba(60, 64, 67, 0.3), 0px 1px 3px 1px rgba(60, 64, 67, 0.15);\n",
              "    fill: #174EA6;\n",
              "  }\n",
              "\n",
              "  [theme=dark] .colab-df-quickchart {\n",
              "    background-color: #3B4455;\n",
              "    fill: #D2E3FC;\n",
              "  }\n",
              "\n",
              "  [theme=dark] .colab-df-quickchart:hover {\n",
              "    background-color: #434B5C;\n",
              "    box-shadow: 0px 1px 3px 1px rgba(0, 0, 0, 0.15);\n",
              "    filter: drop-shadow(0px 1px 2px rgba(0, 0, 0, 0.3));\n",
              "    fill: #FFFFFF;\n",
              "  }\n",
              "</style>\n",
              "\n",
              "  <script>\n",
              "    async function quickchart(key) {\n",
              "      const charts = await google.colab.kernel.invokeFunction(\n",
              "          'suggestCharts', [key], {});\n",
              "    }\n",
              "    (() => {\n",
              "      let quickchartButtonEl =\n",
              "        document.querySelector('#df-dcde8da3-c56e-4525-b4b6-ed292306cac0 button');\n",
              "      quickchartButtonEl.style.display =\n",
              "        google.colab.kernel.accessAllowed ? 'block' : 'none';\n",
              "    })();\n",
              "  </script>\n",
              "</div>\n",
              "    </div>\n",
              "  </div>\n"
            ]
          },
          "metadata": {},
          "execution_count": 20
        }
      ],
      "source": [
        "# show train result\n",
        "# =======================\n",
        "\n",
        "table = pd.DataFrame([res['history'][-1] for res in results_fed])\n",
        "table.to_csv(experiment_path + \"results/performance_train.csv\", sep = \";\")\n",
        "table.describe().to_csv(experiment_path + \"results/performance_train_overview.csv\", sep = \";\")\n",
        "table.describe().round(2)"
      ]
    },
    {
      "cell_type": "code",
      "execution_count": 21,
      "metadata": {
        "colab": {
          "base_uri": "https://localhost:8080/",
          "height": 497
        },
        "id": "Jg99uHBUci_b",
        "outputId": "0be431b8-d46e-49ff-98d0-62dd9c0d8acd"
      },
      "outputs": [
        {
          "output_type": "display_data",
          "data": {
            "text/plain": [
              "<Figure size 640x480 with 1 Axes>"
            ],
            "image/png": "[encoded data removed]"
          },
          "metadata": {}
        }
      ],
      "source": [
        "# plot train result (MAE)\n",
        "# =======================\n",
        "\n",
        "y = np.array([[hist['mean_absolute_error'] for hist in res['history']] for res in results_fed]).transpose()\n",
        "yval = np.array([[hist['val_mean_absolute_error'] for hist in res['history']] for res in results_fed]).transpose()\n",
        "\n",
        "\n",
        "xran = range(1,y.shape[0] + 1)\n",
        "plt.plot(xran, y, color = 'blue', alpha = .2)\n",
        "plt.plot(xran, np.quantile(y,.5, axis = 1), label = 'training', color = 'blue')\n",
        "plt.plot(xran, yval, color = 'orange', alpha = .2)\n",
        "plt.plot(xran, np.quantile(yval,.5, axis = 1), label = 'evaluation', color = 'orange')\n",
        "plt.xlabel(\"Rounds\")\n",
        "plt.ylabel(\"Mean Absolute Error\")\n",
        "plt.suptitle('Federated Insurance', fontsize=18)\n",
        "plt.title('federated training performance')\n",
        "plt.legend()\n",
        "plt.savefig(experiment_path + 'results/training_performance_mae.png')\n",
        "plt.show()"
      ]
    },
    {
      "cell_type": "code",
      "execution_count": 22,
      "metadata": {
        "colab": {
          "base_uri": "https://localhost:8080/",
          "height": 497
        },
        "id": "wMstkvt5ci_b",
        "outputId": "736cae54-2ca3-4fa3-a29e-91e4cd11641f"
      },
      "outputs": [
        {
          "output_type": "display_data",
          "data": {
            "text/plain": [
              "<Figure size 640x480 with 1 Axes>"
            ],
            "image/png": "[encoded data removed]"
          },
          "metadata": {}
        }
      ],
      "source": [
        "# plot train result (MSE)\n",
        "# =======================\n",
        "\n",
        "y = np.array([[hist['mean_squared_error'] for hist in res['history']] for res in results_fed]).transpose()\n",
        "yval = np.array([[hist['val_mean_squared_error'] for hist in res['history']] for res in results_fed]).transpose()\n",
        "\n",
        "\n",
        "xran = range(1,y.shape[0] + 1)\n",
        "plt.plot(xran, y, color = 'blue', alpha = .2)\n",
        "plt.plot(xran, np.quantile(y,.5, axis = 1), label = 'training', color = 'blue')\n",
        "plt.plot(xran, yval, color = 'orange', alpha = .2)\n",
        "plt.plot(xran, np.quantile(yval,.5, axis = 1), label = 'evaluation', color = 'orange')\n",
        "plt.xlabel(\"Rounds\")\n",
        "plt.ylabel(\"Mean Squared Error\")\n",
        "plt.suptitle('Federated Insurance', fontsize=18)\n",
        "plt.title('federated training performance')\n",
        "plt.legend()\n",
        "plt.savefig(experiment_path + 'results/training_performance_mse.png')\n",
        "plt.show()"
      ]
    },
    {
      "cell_type": "markdown",
      "metadata": {
        "id": "z3Lv2KIoci_c"
      },
      "source": [
        "### FED Test\n",
        "---"
      ]
    },
    {
      "cell_type": "code",
      "execution_count": 23,
      "metadata": {
        "colab": {
          "base_uri": "https://localhost:8080/"
        },
        "id": "JVgwdsNnci_c",
        "outputId": "c2c70c42-c10f-4765-d2ba-9cce45ccdb62"
      },
      "outputs": [
        {
          "output_type": "stream",
          "name": "stderr",
          "text": [
            "100%|██████████| 4/4 [00:14<00:00,  3.72s/it]\n"
          ]
        }
      ],
      "source": [
        "# calculate test\n",
        "# ==============\n",
        "\n",
        "results_fed_test = []\n",
        "\n",
        "model = keras_blueprint(compile = True)\n",
        "\n",
        "i = 0\n",
        "for train, test in tqdm.tqdm(list(evaluation.split(df, df.region))):\n",
        "    data_test = df.loc[test]\n",
        "    X_test, y_test = data_test[features_fed], data_test[target]\n",
        "\n",
        "    # calculate test performance\n",
        "    model_weights = results_fed[i]['process'].get_model_weights(results_fed[i]['state'])\n",
        "    i += 1\n",
        "    model_weights.assign_weights_to(model)\n",
        "\n",
        "    perf_test = model.evaluate(X_test, y_test, verbose = 0)\n",
        "    perf_test = dict(zip(model.metrics_names, perf_test))\n",
        "\n",
        "    results_fed_test.append(perf_test)\n"
      ]
    },
    {
      "cell_type": "code",
      "execution_count": 24,
      "metadata": {
        "colab": {
          "base_uri": "https://localhost:8080/",
          "height": 488
        },
        "id": "TxBkKlRUci_c",
        "outputId": "1a4f6270-b633-439f-94b9-8b7b64b90721"
      },
      "outputs": [
        {
          "output_type": "execute_result",
          "data": {
            "text/plain": [
              "                                 mean           std           min  \\\n",
              "mean_absolute_error      4.471527e+03  2.381729e+02  4.119820e+03   \n",
              "mean_squared_error       4.396699e+07  4.190615e+06  3.926994e+07   \n",
              "loss                     4.415554e+07  4.137392e+06  3.945620e+07   \n",
              "num_examples             1.497500e+04  0.000000e+00  1.497500e+04   \n",
              "num_batches              1.190000e+02  0.000000e+00  1.190000e+02   \n",
              "val_mean_absolute_error  8.112736e+03  8.948682e+02  6.820190e+03   \n",
              "val_mean_squared_error   8.294106e+07  1.330016e+07  6.545238e+07   \n",
              "val_loss                 8.314602e+07  1.365266e+07  6.518908e+07   \n",
              "val_num_examples         7.000000e+01  0.000000e+00  7.000000e+01   \n",
              "val_num_batches          4.000000e+00  0.000000e+00  4.000000e+00   \n",
              "test_loss                9.778397e+07  1.153903e+07  8.386391e+07   \n",
              "test_mae                 8.844948e+03  4.980972e+02  8.234465e+03   \n",
              "test_mean_squared_error  9.778397e+07  1.153903e+07  8.386391e+07   \n",
              "test_r2_score            2.356000e-01  1.381000e-01  9.850000e-02   \n",
              "\n",
              "                                  25%           50%           75%  \\\n",
              "mean_absolute_error      4.428393e+03  4.568386e+03  4.611520e+03   \n",
              "mean_squared_error       4.101909e+07  4.444169e+07  4.738958e+07   \n",
              "loss                     4.129185e+07  4.469651e+07  4.756020e+07   \n",
              "num_examples             1.497500e+04  1.497500e+04  1.497500e+04   \n",
              "num_batches              1.190000e+02  1.190000e+02  1.190000e+02   \n",
              "val_mean_absolute_error  7.888330e+03  8.397620e+03  8.622027e+03   \n",
              "val_mean_squared_error   7.739946e+07  8.465997e+07  9.020157e+07   \n",
              "val_loss                 7.761730e+07  8.484593e+07  9.037465e+07   \n",
              "val_num_examples         7.000000e+01  7.000000e+01  7.000000e+01   \n",
              "val_num_batches          4.000000e+00  4.000000e+00  4.000000e+00   \n",
              "test_loss                9.210189e+07  9.790806e+07  1.035901e+08   \n",
              "test_mae                 8.626416e+03  8.853106e+03  9.071638e+03   \n",
              "test_mean_squared_error  9.210189e+07  9.790806e+07  1.035901e+08   \n",
              "test_r2_score            1.432000e-01  2.164000e-01  3.088000e-01   \n",
              "\n",
              "                                  max  \n",
              "mean_absolute_error      4.629513e+03  \n",
              "mean_squared_error       4.771463e+07  \n",
              "loss                     4.777297e+07  \n",
              "num_examples             1.497500e+04  \n",
              "num_batches              1.190000e+02  \n",
              "val_mean_absolute_error  8.835514e+03  \n",
              "val_mean_squared_error   9.699192e+07  \n",
              "val_loss                 9.770311e+07  \n",
              "val_num_examples         7.000000e+01  \n",
              "val_num_batches          4.000000e+00  \n",
              "test_loss                1.114558e+08  \n",
              "test_mae                 9.439113e+03  \n",
              "test_mean_squared_error  1.114558e+08  \n",
              "test_r2_score            4.113000e-01  "
            ],
            "text/html": [
              "\n",
              "  <div id=\"df-2efac51f-dc5e-4c37-9496-d56c79e16dfb\" class=\"colab-df-container\">\n",
              "    <div>\n",
              "<style scoped>\n",
              "    .dataframe tbody tr th:only-of-type {\n",
              "        vertical-align: middle;\n",
              "    }\n",
              "\n",
              "    .dataframe tbody tr th {\n",
              "        vertical-align: top;\n",
              "    }\n",
              "\n",
              "    .dataframe thead th {\n",
              "        text-align: right;\n",
              "    }\n",
              "</style>\n",
              "<table border=\"1\" class=\"dataframe\">\n",
              "  <thead>\n",
              "    <tr style=\"text-align: right;\">\n",
              "      <th></th>\n",
              "      <th>mean</th>\n",
              "      <th>std</th>\n",
              "      <th>min</th>\n",
              "      <th>25%</th>\n",
              "      <th>50%</th>\n",
              "      <th>75%</th>\n",
              "      <th>max</th>\n",
              "    </tr>\n",
              "  </thead>\n",
              "  <tbody>\n",
              "    <tr>\n",
              "      <th>mean_absolute_error</th>\n",
              "      <td>4.471527e+03</td>\n",
              "      <td>2.381729e+02</td>\n",
              "      <td>4.119820e+03</td>\n",
              "      <td>4.428393e+03</td>\n",
              "      <td>4.568386e+03</td>\n",
              "      <td>4.611520e+03</td>\n",
              "      <td>4.629513e+03</td>\n",
              "    </tr>\n",
              "    <tr>\n",
              "      <th>mean_squared_error</th>\n",
              "      <td>4.396699e+07</td>\n",
              "      <td>4.190615e+06</td>\n",
              "      <td>3.926994e+07</td>\n",
              "      <td>4.101909e+07</td>\n",
              "      <td>4.444169e+07</td>\n",
              "      <td>4.738958e+07</td>\n",
              "      <td>4.771463e+07</td>\n",
              "    </tr>\n",
              "    <tr>\n",
              "      <th>loss</th>\n",
              "      <td>4.415554e+07</td>\n",
              "      <td>4.137392e+06</td>\n",
              "      <td>3.945620e+07</td>\n",
              "      <td>4.129185e+07</td>\n",
              "      <td>4.469651e+07</td>\n",
              "      <td>4.756020e+07</td>\n",
              "      <td>4.777297e+07</td>\n",
              "    </tr>\n",
              "    <tr>\n",
              "      <th>num_examples</th>\n",
              "      <td>1.497500e+04</td>\n",
              "      <td>0.000000e+00</td>\n",
              "      <td>1.497500e+04</td>\n",
              "      <td>1.497500e+04</td>\n",
              "      <td>1.497500e+04</td>\n",
              "      <td>1.497500e+04</td>\n",
              "      <td>1.497500e+04</td>\n",
              "    </tr>\n",
              "    <tr>\n",
              "      <th>num_batches</th>\n",
              "      <td>1.190000e+02</td>\n",
              "      <td>0.000000e+00</td>\n",
              "      <td>1.190000e+02</td>\n",
              "      <td>1.190000e+02</td>\n",
              "      <td>1.190000e+02</td>\n",
              "      <td>1.190000e+02</td>\n",
              "      <td>1.190000e+02</td>\n",
              "    </tr>\n",
              "    <tr>\n",
              "      <th>val_mean_absolute_error</th>\n",
              "      <td>8.112736e+03</td>\n",
              "      <td>8.948682e+02</td>\n",
              "      <td>6.820190e+03</td>\n",
              "      <td>7.888330e+03</td>\n",
              "      <td>8.397620e+03</td>\n",
              "      <td>8.622027e+03</td>\n",
              "      <td>8.835514e+03</td>\n",
              "    </tr>\n",
              "    <tr>\n",
              "      <th>val_mean_squared_error</th>\n",
              "      <td>8.294106e+07</td>\n",
              "      <td>1.330016e+07</td>\n",
              "      <td>6.545238e+07</td>\n",
              "      <td>7.739946e+07</td>\n",
              "      <td>8.465997e+07</td>\n",
              "      <td>9.020157e+07</td>\n",
              "      <td>9.699192e+07</td>\n",
              "    </tr>\n",
              "    <tr>\n",
              "      <th>val_loss</th>\n",
              "      <td>8.314602e+07</td>\n",
              "      <td>1.365266e+07</td>\n",
              "      <td>6.518908e+07</td>\n",
              "      <td>7.761730e+07</td>\n",
              "      <td>8.484593e+07</td>\n",
              "      <td>9.037465e+07</td>\n",
              "      <td>9.770311e+07</td>\n",
              "    </tr>\n",
              "    <tr>\n",
              "      <th>val_num_examples</th>\n",
              "      <td>7.000000e+01</td>\n",
              "      <td>0.000000e+00</td>\n",
              "      <td>7.000000e+01</td>\n",
              "      <td>7.000000e+01</td>\n",
              "      <td>7.000000e+01</td>\n",
              "      <td>7.000000e+01</td>\n",
              "      <td>7.000000e+01</td>\n",
              "    </tr>\n",
              "    <tr>\n",
              "      <th>val_num_batches</th>\n",
              "      <td>4.000000e+00</td>\n",
              "      <td>0.000000e+00</td>\n",
              "      <td>4.000000e+00</td>\n",
              "      <td>4.000000e+00</td>\n",
              "      <td>4.000000e+00</td>\n",
              "      <td>4.000000e+00</td>\n",
              "      <td>4.000000e+00</td>\n",
              "    </tr>\n",
              "    <tr>\n",
              "      <th>test_loss</th>\n",
              "      <td>9.778397e+07</td>\n",
              "      <td>1.153903e+07</td>\n",
              "      <td>8.386391e+07</td>\n",
              "      <td>9.210189e+07</td>\n",
              "      <td>9.790806e+07</td>\n",
              "      <td>1.035901e+08</td>\n",
              "      <td>1.114558e+08</td>\n",
              "    </tr>\n",
              "    <tr>\n",
              "      <th>test_mae</th>\n",
              "      <td>8.844948e+03</td>\n",
              "      <td>4.980972e+02</td>\n",
              "      <td>8.234465e+03</td>\n",
              "      <td>8.626416e+03</td>\n",
              "      <td>8.853106e+03</td>\n",
              "      <td>9.071638e+03</td>\n",
              "      <td>9.439113e+03</td>\n",
              "    </tr>\n",
              "    <tr>\n",
              "      <th>test_mean_squared_error</th>\n",
              "      <td>9.778397e+07</td>\n",
              "      <td>1.153903e+07</td>\n",
              "      <td>8.386391e+07</td>\n",
              "      <td>9.210189e+07</td>\n",
              "      <td>9.790806e+07</td>\n",
              "      <td>1.035901e+08</td>\n",
              "      <td>1.114558e+08</td>\n",
              "    </tr>\n",
              "    <tr>\n",
              "      <th>test_r2_score</th>\n",
              "      <td>2.356000e-01</td>\n",
              "      <td>1.381000e-01</td>\n",
              "      <td>9.850000e-02</td>\n",
              "      <td>1.432000e-01</td>\n",
              "      <td>2.164000e-01</td>\n",
              "      <td>3.088000e-01</td>\n",
              "      <td>4.113000e-01</td>\n",
              "    </tr>\n",
              "  </tbody>\n",
              "</table>\n",
              "</div>\n",
              "    <div class=\"colab-df-buttons\">\n",
              "\n",
              "  <div class=\"colab-df-container\">\n",
              "    <button class=\"colab-df-convert\" onclick=\"convertToInteractive('df-2efac51f-dc5e-4c37-9496-d56c79e16dfb')\"\n",
              "            title=\"Convert this dataframe to an interactive table.\"\n",
              "            style=\"display:none;\">\n",
              "\n",
              "  <svg xmlns=\"http://www.w3.org/2000/svg\" height=\"24px\" viewBox=\"0 -960 960 960\">\n",
              "    <path d=\"M120-120v-720h720v720H120Zm60-500h600v-160H180v160Zm220 220h160v-160H400v160Zm0 220h160v-160H400v160ZM180-400h160v-160H180v160Zm440 0h160v-160H620v160ZM180-180h160v-160H180v160Zm440 0h160v-160H620v160Z\"/>\n",
              "  </svg>\n",
              "    </button>\n",
              "\n",
              "  <style>\n",
              "    .colab-df-container {\n",
              "      display:flex;\n",
              "      gap: 12px;\n",
              "    }\n",
              "\n",
              "    .colab-df-convert {\n",
              "      background-color: #E8F0FE;\n",
              "      border: none;\n",
              "      border-radius: 50%;\n",
              "      cursor: pointer;\n",
              "      display: none;\n",
              "      fill: #1967D2;\n",
              "      height: 32px;\n",
              "      padding: 0 0 0 0;\n",
              "      width: 32px;\n",
              "    }\n",
              "\n",
              "    .colab-df-convert:hover {\n",
              "      background-color: #E2EBFA;\n",
              "      box-shadow: 0px 1px 2px rgba(60, 64, 67, 0.3), 0px 1px 3px 1px rgba(60, 64, 67, 0.15);\n",
              "      fill: #174EA6;\n",
              "    }\n",
              "\n",
              "    .colab-df-buttons div {\n",
              "      margin-bottom: 4px;\n",
              "    }\n",
              "\n",
              "    [theme=dark] .colab-df-convert {\n",
              "      background-color: #3B4455;\n",
              "      fill: #D2E3FC;\n",
              "    }\n",
              "\n",
              "    [theme=dark] .colab-df-convert:hover {\n",
              "      background-color: #434B5C;\n",
              "      box-shadow: 0px 1px 3px 1px rgba(0, 0, 0, 0.15);\n",
              "      filter: drop-shadow(0px 1px 2px rgba(0, 0, 0, 0.3));\n",
              "      fill: #FFFFFF;\n",
              "    }\n",
              "  </style>\n",
              "\n",
              "    <script>\n",
              "      const buttonEl =\n",
              "        document.querySelector('#df-2efac51f-dc5e-4c37-9496-d56c79e16dfb button.colab-df-convert');\n",
              "      buttonEl.style.display =\n",
              "        google.colab.kernel.accessAllowed ? 'block' : 'none';\n",
              "\n",
              "      async function convertToInteractive(key) {\n",
              "        const element = document.querySelector('#df-2efac51f-dc5e-4c37-9496-d56c79e16dfb');\n",
              "        const dataTable =\n",
              "          await google.colab.kernel.invokeFunction('convertToInteractive',\n",
              "                                                    [key], {});\n",
              "        if (!dataTable) return;\n",
              "\n",
              "        const docLinkHtml = 'Like what you see? Visit the ' +\n",
              "          '<a target=\"_blank\" href=https://colab.research.google.com/notebooks/data_table.ipynb>data table notebook</a>'\n",
              "          + ' to learn more about interactive tables.';\n",
              "        element.innerHTML = '';\n",
              "        dataTable['output_type'] = 'display_data';\n",
              "        await google.colab.output.renderOutput(dataTable, element);\n",
              "        const docLink = document.createElement('div');\n",
              "        docLink.innerHTML = docLinkHtml;\n",
              "        element.appendChild(docLink);\n",
              "      }\n",
              "    </script>\n",
              "  </div>\n",
              "\n",
              "\n",
              "<div id=\"df-3134f6ec-458e-4387-8f9f-9f26d95b4b56\">\n",
              "  <button class=\"colab-df-quickchart\" onclick=\"quickchart('df-3134f6ec-458e-4387-8f9f-9f26d95b4b56')\"\n",
              "            title=\"Suggest charts.\"\n",
              "            style=\"display:none;\">\n",
              "\n",
              "<svg xmlns=\"http://www.w3.org/2000/svg\" height=\"24px\"viewBox=\"0 0 24 24\"\n",
              "     width=\"24px\">\n",
              "    <g>\n",
              "        <path d=\"M19 3H5c-1.1 0-2 .9-2 2v14c0 1.1.9 2 2 2h14c1.1 0 2-.9 2-2V5c0-1.1-.9-2-2-2zM9 17H7v-7h2v7zm4 0h-2V7h2v10zm4 0h-2v-4h2v4z\"/>\n",
              "    </g>\n",
              "</svg>\n",
              "  </button>\n",
              "\n",
              "<style>\n",
              "  .colab-df-quickchart {\n",
              "    background-color: #E8F0FE;\n",
              "    border: none;\n",
              "    border-radius: 50%;\n",
              "    cursor: pointer;\n",
              "    display: none;\n",
              "    fill: #1967D2;\n",
              "    height: 32px;\n",
              "    padding: 0 0 0 0;\n",
              "    width: 32px;\n",
              "  }\n",
              "\n",
              "  .colab-df-quickchart:hover {\n",
              "    background-color: #E2EBFA;\n",
              "    box-shadow: 0px 1px 2px rgba(60, 64, 67, 0.3), 0px 1px 3px 1px rgba(60, 64, 67, 0.15);\n",
              "    fill: #174EA6;\n",
              "  }\n",
              "\n",
              "  [theme=dark] .colab-df-quickchart {\n",
              "    background-color: #3B4455;\n",
              "    fill: #D2E3FC;\n",
              "  }\n",
              "\n",
              "  [theme=dark] .colab-df-quickchart:hover {\n",
              "    background-color: #434B5C;\n",
              "    box-shadow: 0px 1px 3px 1px rgba(0, 0, 0, 0.15);\n",
              "    filter: drop-shadow(0px 1px 2px rgba(0, 0, 0, 0.3));\n",
              "    fill: #FFFFFF;\n",
              "  }\n",
              "</style>\n",
              "\n",
              "  <script>\n",
              "    async function quickchart(key) {\n",
              "      const charts = await google.colab.kernel.invokeFunction(\n",
              "          'suggestCharts', [key], {});\n",
              "    }\n",
              "    (() => {\n",
              "      let quickchartButtonEl =\n",
              "        document.querySelector('#df-3134f6ec-458e-4387-8f9f-9f26d95b4b56 button');\n",
              "      quickchartButtonEl.style.display =\n",
              "        google.colab.kernel.accessAllowed ? 'block' : 'none';\n",
              "    })();\n",
              "  </script>\n",
              "</div>\n",
              "    </div>\n",
              "  </div>\n"
            ]
          },
          "metadata": {},
          "execution_count": 24
        }
      ],
      "source": [
        "# show test results\n",
        "# =================\n",
        "\n",
        "table2 = pd.DataFrame(results_fed_test)\n",
        "table2 = table2.set_axis(['test_'+ col for col in table2.columns], axis = 1)\n",
        "\n",
        "table2.to_csv(experiment_path + \"results/performance_test.csv\", sep = \";\")\n",
        "table2.describe()[1:].to_csv(experiment_path + \"results/performance_test_overview.csv\", sep = \";\")\n",
        "table_all_fed = pd.concat([table, table2], axis = 1)\n",
        "table_all_fed.describe()[1:].to_csv(experiment_path + \"results/performance_overview.csv\", sep = \";\")\n",
        "table_all_fed.to_csv(experiment_path + \"results/performance.csv\", sep = \";\")\n",
        "\n",
        "table_all_fed.describe()[1:].transpose().round(4)"
      ]
    },
    {
      "cell_type": "markdown",
      "metadata": {
        "id": "8zpXBqiDci_c"
      },
      "source": [
        "## Centralized DNN\n",
        "---"
      ]
    },
    {
      "cell_type": "markdown",
      "metadata": {
        "id": "IuCFFloxci_d"
      },
      "source": [
        "### Setup\n",
        "---\n",
        "\n",
        "Using 9 Features."
      ]
    },
    {
      "cell_type": "code",
      "execution_count": 25,
      "metadata": {
        "id": "M4i9OIizci_d"
      },
      "outputs": [],
      "source": [
        "# experiment logging\n",
        "# =============\n",
        "\n",
        "experiment_name = '07_central_fix'\n",
        "\n",
        "experiment_path = out_path + \"/\" + experiment_name + \"/\"\n",
        "if not os.path.exists(experiment_path + 'logs'): os.makedirs(experiment_path + 'logs')\n",
        "if not os.path.exists(experiment_path + 'models'): os.makedirs(experiment_path + 'models')\n",
        "if not os.path.exists(experiment_path + 'results'): os.makedirs(experiment_path + 'results')"
      ]
    },
    {
      "cell_type": "markdown",
      "metadata": {
        "id": "JgLXPiCZci_d"
      },
      "source": [
        "### CTR Train\n",
        "---"
      ]
    },
    {
      "cell_type": "code",
      "execution_count": null,
      "metadata": {
        "colab": {
          "base_uri": "https://localhost:8080/"
        },
        "id": "_eqXyhngci_d",
        "outputId": "fa736c79-302d-4844-f85c-82e8ce51f409"
      },
      "outputs": [
        {
          "output_type": "stream",
          "name": "stderr",
          "text": [
            " 75%|███████▌  | 3/4 [02:00<00:39, 39.72s/it]"
          ]
        }
      ],
      "source": [
        "# calculate training\n",
        "# ==================\n",
        "\n",
        "results_ctr = []\n",
        "\n",
        "eval_ind = 0\n",
        "for train, test in tqdm.tqdm(list(evaluation.split(df, df.region))):\n",
        "\n",
        "    # Logging\n",
        "    rep  = int(eval_ind / nfolds)\n",
        "    fold = int(eval_ind % nfolds)\n",
        "    eval_ind += 1\n",
        "    id = \"r\" + str(rep) + \"f\" + str(fold)\n",
        "    #print('======= rep %s - fold %s  =======' % (rep, fold))\n",
        "\n",
        "\n",
        "    data_train = df.loc[train]\n",
        "    X_train, y_train = data_train[features], data_train[target]\n",
        "\n",
        "    model = keras_blueprint(nfeatures = len(features), compile = True)\n",
        "\n",
        "    result = train_model(\n",
        "        model, X_train, y_train,\n",
        "        epochs = n_epochs,\n",
        "        #output_msr = \"r2_score\",\n",
        "        callbacks = [CSVLogger(experiment_path + \"logs/\" + id + '_log.csv'  , separator =\";\")],\n",
        "        seed = 42,\n",
        "        verbose = False\n",
        "    )\n",
        "    model.save_weights(experiment_path + \"models/\" + id + '_weights.h5')\n",
        "\n",
        "    results_ctr.append(result)\n"
      ]
    },
    {
      "cell_type": "code",
      "execution_count": null,
      "metadata": {
        "id": "3aR46gZFci_e"
      },
      "outputs": [],
      "source": [
        "# show train results\n",
        "# ==================\n",
        "\n",
        "table = pd.DataFrame(\n",
        "    [{key: val[-1] for key, val in hist.history.items()} for hist in results_ctr]\n",
        "    ).assign(\n",
        "    #r2_score    = lambda x: x.r2_score * 100,\n",
        "    #val_r2_score = lambda x: x.val_r2_score * 100\n",
        ")\n",
        "\n",
        "table.describe()[1:].to_csv(experiment_path + \"results/performance_train_overview.csv\", sep = \";\")\n",
        "table.round(2)"
      ]
    },
    {
      "cell_type": "code",
      "execution_count": null,
      "metadata": {
        "id": "p04R8pjSci_e"
      },
      "outputs": [],
      "source": [
        "# plot train result (MAE)\n",
        "# =======================\n",
        "\n",
        "y1 = np.array([hist.history[\"mae\"] for hist in results_ctr]).transpose()\n",
        "y2 = np.array([hist.history[\"val_mae\"] for hist in results_ctr]).transpose()\n",
        "\n",
        "plt.plot(y1, color = 'blue', alpha = .2)\n",
        "plt.plot(np.quantile(y1,.5, axis = 1), label = 'training', color = 'blue')\n",
        "plt.plot(y2, color = 'orange', alpha = .2)\n",
        "plt.plot(np.quantile(y2,.5, axis = 1), label = 'evaluation', color = 'orange')\n",
        "plt.ylim([None, 4000])\n",
        "\n",
        "plt.xlabel(\"Epochs\")\n",
        "plt.ylabel(\"Mean Absolute Error\")\n",
        "plt.suptitle('Federated Insurance', fontsize = 18)\n",
        "plt.title('centralized training performance')\n",
        "plt.legend()\n",
        "plt.savefig(experiment_path + 'results/training_performance_mae.png')\n",
        "plt.show()\n"
      ]
    },
    {
      "cell_type": "code",
      "execution_count": null,
      "metadata": {
        "id": "2TZgYoAaci_e"
      },
      "outputs": [],
      "source": [
        "# plot train result (RSQ)\n",
        "# =======================\n",
        "\n",
        "y1 = np.array([hist.history[\"r2_score\"] for hist in results_ctr]).transpose()\n",
        "y2 = np.array([hist.history[\"val_r2_score\"] for hist in results_ctr]).transpose()\n",
        "\n",
        "plt.plot(y1, color = 'blue', alpha = .2)\n",
        "plt.plot(np.quantile(y1,.5, axis = 1), label = 'Training', color = 'blue')\n",
        "plt.plot(y2, color = 'orange', alpha = .2)\n",
        "plt.plot(np.quantile(y2,.5, axis = 1), label = 'Evaluation', color = 'orange')\n",
        "plt.ylim([0.5, 0.9])\n",
        "plt.xlabel(\"Epochs\")\n",
        "plt.ylabel(\"R squared\")\n",
        "plt.suptitle('Federated Insurance', fontsize = 18)\n",
        "plt.title('centralized training performance')\n",
        "plt.legend()\n",
        "plt.savefig(experiment_path + 'results/training_performance_rsq.png')\n",
        "plt.show()\n",
        "\n"
      ]
    },
    {
      "cell_type": "markdown",
      "metadata": {
        "id": "AC7ddIfHci_f"
      },
      "source": [
        "### CTR Test\n",
        "---"
      ]
    },
    {
      "cell_type": "code",
      "execution_count": null,
      "metadata": {
        "id": "BVAsd7BIci_f"
      },
      "outputs": [],
      "source": [
        "# compute test\n",
        "# ============\n",
        "\n",
        "results_test_ctr = []\n",
        "\n",
        "i = 0\n",
        "for train, test in tqdm.tqdm(list(evaluation.split(df, df.region))):\n",
        "    data_test = df.loc[test]\n",
        "\n",
        "    X_test, y_test = data_test[features], data_test[target]\n",
        "\n",
        "\n",
        "    model = results_ctr[i].model\n",
        "    i += 1\n",
        "    perf_test  = model.evaluate(X_test, y_test, verbose = 0)\n",
        "    perf_test = dict(zip(model.metrics_names, perf_test))\n",
        "    results_test_ctr.append(perf_test)"
      ]
    },
    {
      "cell_type": "code",
      "execution_count": null,
      "metadata": {
        "id": "mBblb5fRci_f"
      },
      "outputs": [],
      "source": [
        "# show test results\n",
        "# =================\n",
        "\n",
        "table2 = pd.DataFrame(results_test_ctr)\n",
        "table2 = table2.set_axis(['test_'+ col for col in table2.columns], axis = 1)\n",
        "\n",
        "\n",
        "table2.describe()[1:].to_csv(experiment_path + \"results/performance_test_overview.csv\", sep = \";\")\n",
        "\n",
        "table_all_ctr = pd.concat([table, table2], axis = 1)\n",
        "table_all_ctr.describe()[1:].to_csv(experiment_path + \"results/performance_overview.csv\", sep = \";\")\n",
        "table_all_ctr.to_csv(experiment_path + \"results/performance.csv\", sep = \";\")\n",
        "table_all_ctr.describe()[1:].transpose().round(2)"
      ]
    },
    {
      "cell_type": "markdown",
      "metadata": {
        "id": "Nmoan5nHRe6W"
      },
      "source": [
        "## Comparison\n",
        "---"
      ]
    },
    {
      "cell_type": "code",
      "execution_count": null,
      "metadata": {
        "id": "ArHgZv5zRe6X"
      },
      "outputs": [],
      "source": [
        "# table of results\n",
        "# ================\n",
        "\n",
        "tab = pd.concat(\n",
        "    [\n",
        "    table_all_fed.loc[:,table_all_fed.columns.str.contains(\"mean|loss|mae|score\")].describe(percentiles = []).assign(type = \"federated\")[1:3].rename(\n",
        "        columns = {'mean_absolute_error': 'mae',\n",
        "\n",
        "                   'val_mean_absolute_error': 'val_mae',\n",
        "\n",
        "                   'test_mean_absolute_error': 'test_mae'\n",
        "                   }\n",
        "    ).transpose(),\n",
        "    table_all_ctr.describe(percentiles = []).assign(type = \"centralized\")[1:3].transpose()\n",
        "    ],\n",
        "    axis = 1)\n",
        "\n",
        "\n",
        "tab.loc[['type','loss', 'mae', 'mean_squared_error', 'r2_score',\n",
        "         'val_loss', 'val_mae', 'val_mean_squared_error', 'val_r2_score','test_loss',\n",
        "         'test_mae', 'test_mean_squared_error', 'test_r2_score'\n",
        "       ]]"
      ]
    }
  ],
  "metadata": {
    "colab": {
      "provenance": [],
      "toc_visible": true,
      "include_colab_link": true
    },
    "kernelspec": {
      "display_name": "tf",
      "language": "python",
      "name": "python3"
    },
    "language_info": {
      "codemirror_mode": {
        "name": "ipython",
        "version": 3
      },
      "file_extension": ".py",
      "mimetype": "text/x-python",
      "name": "python",
      "nbconvert_exporter": "python",
      "pygments_lexer": "ipython3",
      "version": "3.9.16"
    },
    "orig_nbformat": 4
  },
  "nbformat": 4,
  "nbformat_minor": 0
}